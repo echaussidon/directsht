{
 "cells": [
  {
   "cell_type": "code",
   "execution_count": 39,
   "id": "initial_id",
   "metadata": {
    "collapsed": true,
    "ExecuteTime": {
     "end_time": "2023-11-26T03:07:49.165726Z",
     "start_time": "2023-11-26T03:07:49.146844Z"
    }
   },
   "outputs": [
    {
     "name": "stdout",
     "output_type": "stream",
     "text": [
      "The autoreload extension is already loaded. To reload it, use:\n",
      "  %reload_ext autoreload\n"
     ]
    }
   ],
   "source": [
    "import sys\n",
    "\n",
    "sys.path.append('../sht')\n",
    "from sht import DirectSHT\n",
    "import interp_funcs as interp\n",
    "\n",
    "import numpy as np\n",
    "from scipy.stats import mode\n",
    "import jax.numpy as jnp\n",
    "from jax import jit, vmap, device_put\n",
    "import matplotlib.pyplot as plt\n",
    "import utils\n",
    "\n",
    "from functools import partial\n",
    "\n",
    "%load_ext autoreload\n",
    "%autoreload 2"
   ]
  },
  {
   "cell_type": "code",
   "execution_count": 40,
   "outputs": [],
   "source": [
    "# We can very quickly calculate Ylm values. As an example, compute them up to lmax=Nl\n",
    "Nl  = 500\n",
    "Nx  = 1024\n",
    "\n",
    "sht = DirectSHT(Nl,Nx)\n",
    "x_samples = sht.x"
   ],
   "metadata": {
    "collapsed": false,
    "ExecuteTime": {
     "end_time": "2023-11-26T03:07:50.397766Z",
     "start_time": "2023-11-26T03:07:49.351340Z"
    }
   },
   "id": "af87092f0ca65906"
  },
  {
   "cell_type": "code",
   "execution_count": 41,
   "outputs": [],
   "source": [
    "def get_points(Nrandoms):\n",
    "    # A function to randomly generate data points\n",
    "    #thetas = np.random.uniform(np.pi/8, np.pi/2., Nrandoms)\n",
    "    #phis = np.random.uniform(0, np.pi, Nrandoms)\n",
    "    #wts = np.random.uniform(1, 1.5, Nrandoms)\n",
    "    \n",
    "    rng = np.random.default_rng()\n",
    "    cmin,cmax = np.sin(np.radians(-30)),np.sin(np.radians(30.))\n",
    "    thetas     = np.arccos(rng.uniform(low=cmin,high=cmax,size=Nrandoms))\n",
    "    phis       = rng.uniform(low=0.0,high=2*np.pi,size=Nrandoms)\n",
    "    wts        = np.ones(Nrandoms)\n",
    "    \n",
    "    x=np.cos(thetas)\n",
    "\n",
    "    sorted_idx = np.argsort(x)\n",
    "    x_data_sorted = x[sorted_idx]; w_i_sorted = wts[:][sorted_idx]; phi_data_sorted = phis[:][sorted_idx]\n",
    "    return x_data_sorted, w_i_sorted, phi_data_sorted"
   ],
   "metadata": {
    "collapsed": false,
    "ExecuteTime": {
     "end_time": "2023-11-26T03:07:50.415605Z",
     "start_time": "2023-11-26T03:07:50.398643Z"
    }
   },
   "id": "79a2b1293eca6bc1"
  },
  {
   "cell_type": "code",
   "execution_count": 42,
   "outputs": [],
   "source": [
    "Nrandoms = int(2e7)\n",
    "x_data_sorted, w_i_sorted, phi_data_sorted = get_points(Nrandoms)\n",
    "\n",
    "# Keep positive only for now\n",
    "x_data_sorted = x_data_sorted[np.where(x_data_sorted>=0)[0]]\n",
    "w_i_sorted = w_i_sorted[np.where(x_data_sorted>=0)[0]]\n",
    "phi_data_sorted = phi_data_sorted[np.where(x_data_sorted>=0)[0]]\n",
    "\n",
    "spline_idx = np.digitize(x_data_sorted, x_samples) - 1\n",
    "t = x_data_sorted - x_samples[spline_idx]\n",
    "\n",
    "# Put things in the GPU\n",
    "x_data_sorted_jax = device_put(x_data_sorted)\n",
    "spline_idx_jax = device_put(spline_idx)"
   ],
   "metadata": {
    "collapsed": false,
    "ExecuteTime": {
     "end_time": "2023-11-26T03:07:54.359422Z",
     "start_time": "2023-11-26T03:07:50.415821Z"
    }
   },
   "id": "6862b98340e55b1e"
  },
  {
   "cell_type": "code",
   "execution_count": 94,
   "outputs": [],
   "source": [
    "def find_transitions(arr):\n",
    "    '''\n",
    "    Find the indices of transitions between different values in an array\n",
    "    :param arr: 1D numpy array indicating what bin each element belongs to (must be sorted)\n",
    "    :return: 1D numpy array of indices where the value in arr changes (includes 0)\n",
    "    '''\n",
    "    # Find the differences between consecutive elements\n",
    "    differences = np.diff(arr)\n",
    "    # Find the indices where differences are non-zero\n",
    "    transition_indices = np.nonzero(differences)[0] + 1\n",
    "    # Prepend a zero for convenience\n",
    "    transition_indices = np.insert(transition_indices, 0, 0, axis=0)\n",
    "    return transition_indices\n",
    "\n",
    "def reshape_array(data, transitions, bin_num, bin_len):\n",
    "    '''\n",
    "    Reshape a 1D array into a 2D array to facilitate binning\n",
    "    :param data: 1D numpy array of data to be binned\n",
    "    :param transitions: 1D numpy array of indices where the value in data changes (includes 0)\n",
    "    :param bin_num: int. Number of bins where there is data \n",
    "    :param bin_len: int. Maximum number of points in a bin\n",
    "    :return: 2D numpy array of reshaped data, zero padded in bins with fewer points\n",
    "    '''\n",
    "    data_reshaped = np.zeros((bin_num, bin_len))\n",
    "    for i in range(bin_num-1):\n",
    "        fill_in = data[transitions[i]:transitions[i+1]]\n",
    "        data_reshaped[i,:len(fill_in)] = fill_in\n",
    "    return data_reshaped\n",
    "\n",
    "# First, we find the number of different bins that are populated\n",
    "occupied_bins = np.unique(spline_idx)\n",
    "bin_num = len(occupied_bins)\n",
    "# Then, we find the maximum number of points in a bin\n",
    "bin_len = mode(spline_idx).count\n",
    "# Find the indices of transitions between bins\n",
    "transitions = find_transitions(spline_idx)\n",
    "# Reshape the inputs into a 2D array for fast binning\n",
    "reshaped_inputs = utils.reshape_vs_array([w_i_sorted * input_ for input_ in\n",
    "                   [(2 * t + 1) * (1 - t) ** 2, t * (1 - t) ** 2, t ** 2 * (3 - 2 * t), t ** 2 * (t - 1)]], transitions, bin_num, bin_len)\n",
    "# Make a mask to discard spurious zeros\n",
    "mask = reshape_array(np.ones_like(phi_data_sorted),transitions,bin_num,bin_len)\n",
    "# Mask and put in GPU memory\n",
    "reshaped_inputs = device_put(mask*reshaped_inputs)\n",
    "reshaped_phi_data = device_put(mask*reshape_array(phi_data_sorted,transitions,bin_num,bin_len))"
   ],
   "metadata": {
    "collapsed": false,
    "ExecuteTime": {
     "end_time": "2023-11-26T03:42:05.067920Z",
     "start_time": "2023-11-26T03:42:04.248638Z"
    }
   },
   "id": "a29ed1010fcf56f0"
  },
  {
   "cell_type": "code",
   "execution_count": 98,
   "outputs": [
    {
     "data": {
      "text/plain": "(array([[[ 1.75389883e+04,  1.77559883e+04,  1.76559883e+04, ...,\n           1.77189883e+04,  1.76319883e+04,  0.00000000e+00],\n         [ 7.72772408e+00,  7.80593872e+00,  7.79531145e+00, ...,\n           7.77301884e+00,  7.76347637e+00,  0.00000000e+00],\n         [ 1.35965124e-02,  1.37403114e-02,  1.37607269e-02, ...,\n           1.36844758e-02,  1.36700673e-02,  0.00000000e+00],\n         [-4.53117490e-03, -4.57909610e-03, -4.58589708e-03, ...,\n          -4.56048874e-03, -4.55568731e-03,  0.00000000e+00]],\n \n        [[ 6.72482300e+00,  4.71902237e+01,  1.37736755e+02, ...,\n           1.14091255e+02,  6.23192635e+01,  0.00000000e+00],\n         [ 1.42665450e-02,  2.61438042e-02,  8.24133381e-02, ...,\n           7.31289759e-02,  5.66772223e-02,  0.00000000e+00],\n         [ 2.41667585e-05,  7.83657451e-05,  1.85082943e-04, ...,\n           1.63100092e-04,  1.13528455e-04,  0.00000000e+00],\n         [-8.05437230e-06, -2.61137538e-05, -6.16783436e-05, ...,\n          -5.43536808e-05, -3.78344303e-05,  0.00000000e+00]],\n \n        [[ 6.29135513e+01,  4.68992996e+00, -1.03538147e+02, ...,\n          -5.90760880e+01,  2.04738403e+02,  0.00000000e+00],\n         [ 8.05721804e-02,  1.00812577e-02, -2.16335058e-04, ...,\n          -9.34787653e-03,  1.10197186e-01,  0.00000000e+00],\n         [ 1.94536071e-04,  3.23511304e-05,  5.48696516e-05, ...,\n           3.98226257e-06,  2.19662994e-04,  0.00000000e+00],\n         [-6.48282439e-05, -1.07796805e-05, -1.82828753e-05, ...,\n          -1.32622699e-06, -7.32042317e-05,  0.00000000e+00]],\n \n        ...,\n \n        [[-5.33765793e+01, -1.84668579e+02,  4.92940598e+01, ...,\n           1.21758209e+02, -3.74289207e+01,  0.00000000e+00],\n         [ 6.68074191e-03, -7.94649199e-02,  8.20326805e-03, ...,\n           5.71191199e-02, -7.80512020e-03,  0.00000000e+00],\n         [ 4.65556295e-05, -1.18665354e-04,  4.17848059e-06, ...,\n           1.06700187e-04,  6.83008693e-06,  0.00000000e+00],\n         [-1.55131238e-05,  3.95476964e-05, -1.39217627e-06, ...,\n          -3.55591183e-05, -2.27511646e-06,  0.00000000e+00]],\n \n        [[ 5.46984634e+01,  1.64546997e+02,  1.37032967e+01, ...,\n          -1.57341003e+01, -7.59098358e+01,  0.00000000e+00],\n         [ 2.90955864e-02,  7.82026425e-02, -4.33756411e-02, ...,\n          -6.12845793e-02, -4.40446585e-02,  0.00000000e+00],\n         [ 3.87525506e-05,  1.31694134e-04, -1.44263991e-04, ...,\n          -1.44702819e-04, -9.95900118e-05,  0.00000000e+00],\n         [-1.29162545e-05, -4.38894349e-05,  4.80728922e-05, ...,\n           4.82224787e-05,  3.31875599e-05,  0.00000000e+00]],\n \n        [[-9.92462692e+01, -9.59759598e+01,  1.50200272e+01, ...,\n          -7.38427353e+01,  3.63978729e+01,  0.00000000e+00],\n         [-9.20023303e-03, -1.29063483e-02,  3.72667201e-02, ...,\n          -2.93624047e-02,  2.72454843e-02,  0.00000000e+00],\n         [ 1.22075271e-05, -5.25110227e-06,  1.07815511e-04, ...,\n          -3.59958394e-05,  4.25400431e-05,  0.00000000e+00],\n         [-4.06671461e-06,  1.75050263e-06, -3.59284604e-05, ...,\n           1.19971955e-05, -1.41769506e-05,  0.00000000e+00]]]),\n array([[[ 0.00000000e+00,  0.00000000e+00,  0.00000000e+00, ...,\n           0.00000000e+00,  0.00000000e+00,  0.00000000e+00],\n         [ 0.00000000e+00,  0.00000000e+00,  0.00000000e+00, ...,\n           0.00000000e+00,  0.00000000e+00,  0.00000000e+00],\n         [ 0.00000000e+00,  0.00000000e+00,  0.00000000e+00, ...,\n           0.00000000e+00,  0.00000000e+00,  0.00000000e+00],\n         [ 0.00000000e+00,  0.00000000e+00,  0.00000000e+00, ...,\n           0.00000000e+00,  0.00000000e+00,  0.00000000e+00]],\n \n        [[-1.14962349e+01,  2.32194901e+01,  5.53169632e+01, ...,\n          -2.41205902e+01,  1.28086166e+02,  0.00000000e+00],\n         [-4.01425455e-03,  1.69628225e-02,  1.09435916e-02, ...,\n          -1.54630151e-02,  5.78815751e-02,  0.00000000e+00],\n         [-1.12732178e-05,  2.63632883e-05,  2.28789941e-05, ...,\n          -5.35363870e-05,  1.18497745e-04,  0.00000000e+00],\n         [ 3.75645232e-06, -8.78569972e-06, -7.62433228e-06, ...,\n           1.78401460e-05, -3.94896269e-05,  0.00000000e+00]],\n \n        [[-6.66991577e+01,  7.12623596e+01,  2.08628540e+01, ...,\n          -1.90461945e+02,  7.26858063e+01,  0.00000000e+00],\n         [-2.73995791e-02,  6.33081794e-03,  5.25290705e-03, ...,\n          -1.01648524e-01,  2.35077105e-02,  0.00000000e+00],\n         [-5.34626706e-05, -2.54049210e-05,  4.12739610e-06, ...,\n          -1.82561940e-04,  5.03565825e-05,  0.00000000e+00],\n         [ 1.78164883e-05,  8.46476632e-06, -1.37625830e-06, ...,\n           6.08406190e-05, -1.67808903e-05,  0.00000000e+00]],\n \n        ...,\n \n        [[ 1.63587326e+02, -5.68653870e+01,  5.90706825e+01, ...,\n          -1.51900360e+02,  9.62460327e+01,  0.00000000e+00],\n         [ 1.11200437e-01, -2.79504955e-02, -2.38578357e-02, ...,\n          -4.00316454e-02,  1.98434256e-02,  0.00000000e+00],\n         [ 2.27427634e-04, -3.50624759e-05, -8.19018314e-05, ...,\n          -4.55230547e-05,  2.10066064e-05,  0.00000000e+00],\n         [-7.57916860e-05,  1.16860392e-05,  2.72926482e-05, ...,\n           1.51728100e-05, -7.00119926e-06,  0.00000000e+00]],\n \n        [[ 8.95201569e+01, -1.05733891e+01,  1.40859985e+00, ...,\n          -8.79137421e+01, -1.78324070e+01,  0.00000000e+00],\n         [ 4.41011712e-02, -1.33261606e-02,  5.51640615e-03, ...,\n          -3.51882540e-03, -5.02402186e-02,  0.00000000e+00],\n         [ 8.70606600e-05, -1.51256900e-05,  2.24291580e-05, ...,\n           2.29288453e-05, -1.34038477e-04,  0.00000000e+00],\n         [-2.90140761e-05,  5.04246782e-06, -7.47442209e-06, ...,\n          -7.63989647e-06,  4.46677695e-05,  0.00000000e+00]],\n \n        [[-2.97281647e+00,  7.69393005e+01, -9.02399902e+01, ...,\n           4.11004333e+01, -6.83979034e+01,  0.00000000e+00],\n         [ 1.27192549e-02,  5.57632297e-02, -5.42358980e-02, ...,\n           3.48271690e-02,  7.61673413e-03,  0.00000000e+00],\n         [ 6.24371460e-05,  1.10309295e-04, -1.14263668e-04, ...,\n           8.82341410e-05,  4.01373691e-05,  0.00000000e+00],\n         [-2.08051824e-05, -3.67613720e-05,  3.80780803e-05, ...,\n          -2.94031997e-05, -1.33754411e-05,  0.00000000e+00]]]))"
     },
     "execution_count": 98,
     "metadata": {},
     "output_type": "execute_result"
    }
   ],
   "source": [
    "def get_vs(mmax, phi_data_reshaped, reshaped_inputs):\n",
    "    vs_r = np.zeros((mmax+1, 4, phi_data_reshaped.shape[0])); vs_i=vs_r.copy()\n",
    "    for m in range(mmax+1):\n",
    "        vs_r[m,:,:], vs_i[m,:,:] = interp.get_vs_at_m(m, phi_data_reshaped, reshaped_inputs)\n",
    "        #vs_r_at_m, vs_i_at_m = get_vs_at_m(m, phi_data_reshaped, reshaped_inputs)\n",
    "        #vs_r.at[m,:,:].set(vs_r_at_m); vs_i.at[m,:,:].set(vs_i_at_m)\n",
    "    return vs_r, vs_i\n",
    "\n",
    "get_vs(500, reshaped_phi_data, reshaped_inputs)"
   ],
   "metadata": {
    "collapsed": false,
    "ExecuteTime": {
     "end_time": "2023-11-26T03:51:58.478394Z",
     "start_time": "2023-11-26T03:51:50.685132Z"
    }
   },
   "id": "c0677fa6687a4b81"
  },
  {
   "cell_type": "code",
   "execution_count": 100,
   "outputs": [],
   "source": [
    "\n",
    "vsr, vsi = get_vs(500, reshaped_phi_data, reshaped_inputs)\n"
   ],
   "metadata": {
    "collapsed": false,
    "ExecuteTime": {
     "end_time": "2023-11-26T03:52:35.308401Z",
     "start_time": "2023-11-26T03:52:33.752629Z"
    }
   },
   "id": "5e8568d9998c2bad"
  },
  {
   "cell_type": "code",
   "execution_count": 89,
   "outputs": [
    {
     "name": "stdout",
     "output_type": "stream",
     "text": [
      "1.35 s ± 26.2 ms per loop (mean ± std. dev. of 7 runs, 1 loop each)\n"
     ]
    }
   ],
   "source": [
    "%%timeit\n",
    "interp.get_vs(500, reshaped_phi_data, reshaped_inputs) "
   ],
   "metadata": {
    "collapsed": false,
    "ExecuteTime": {
     "end_time": "2023-11-26T03:21:57.449559Z",
     "start_time": "2023-11-26T03:21:27.057855Z"
    }
   },
   "id": "3b5b86e9c01587f"
  },
  {
   "cell_type": "code",
   "execution_count": 95,
   "outputs": [
    {
     "name": "stdout",
     "output_type": "stream",
     "text": [
      "{ \u001B[34m\u001B[22m\u001B[1mlambda \u001B[39m\u001B[22m\u001B[22m; a\u001B[35m:i32[10]\u001B[39m b\u001B[35m:f32[569,18012]\u001B[39m c\u001B[35m:f32[4,569,18012]\u001B[39m. \u001B[34m\u001B[22m\u001B[1mlet\n",
      "    \u001B[39m\u001B[22m\u001B[22md\u001B[35m:f32[10]\u001B[39m = convert_element_type[new_dtype=float32 weak_type=False] a\n",
      "    e\u001B[35m:f32[1,569,18012]\u001B[39m = broadcast_in_dim[\n",
      "      broadcast_dimensions=(1, 2)\n",
      "      shape=(1, 569, 18012)\n",
      "    ] b\n",
      "    f\u001B[35m:f32[10,1,1]\u001B[39m = broadcast_in_dim[broadcast_dimensions=(0,) shape=(10, 1, 1)] d\n",
      "    g\u001B[35m:f32[10,569,18012]\u001B[39m = mul f e\n",
      "    h\u001B[35m:f32[10,569,18012]\u001B[39m = cos g\n",
      "    i\u001B[35m:f32[10]\u001B[39m = convert_element_type[new_dtype=float32 weak_type=False] a\n",
      "    j\u001B[35m:f32[1,569,18012]\u001B[39m = broadcast_in_dim[\n",
      "      broadcast_dimensions=(1, 2)\n",
      "      shape=(1, 569, 18012)\n",
      "    ] b\n",
      "    k\u001B[35m:f32[10,1,1]\u001B[39m = broadcast_in_dim[broadcast_dimensions=(0,) shape=(10, 1, 1)] i\n",
      "    l\u001B[35m:f32[10,569,18012]\u001B[39m = mul k j\n",
      "    m\u001B[35m:f32[10,569,18012]\u001B[39m = sin l\n",
      "    n\u001B[35m:f32[10,1,569,18012]\u001B[39m = broadcast_in_dim[\n",
      "      broadcast_dimensions=(0, 2, 3)\n",
      "      shape=(10, 1, 569, 18012)\n",
      "    ] h\n",
      "    o\u001B[35m:f32[1,4,569,18012]\u001B[39m = broadcast_in_dim[\n",
      "      broadcast_dimensions=(1, 2, 3)\n",
      "      shape=(1, 4, 569, 18012)\n",
      "    ] c\n",
      "    p\u001B[35m:f32[10,4,569,18012]\u001B[39m = mul o n\n",
      "    q\u001B[35m:f32[10,4,569]\u001B[39m = pjit[\n",
      "      jaxpr={ \u001B[34m\u001B[22m\u001B[1mlambda \u001B[39m\u001B[22m\u001B[22m; r\u001B[35m:f32[10,4,569,18012]\u001B[39m. \u001B[34m\u001B[22m\u001B[1mlet\n",
      "          \u001B[39m\u001B[22m\u001B[22ms\u001B[35m:f32[10,4,569]\u001B[39m = reduce_sum[axes=(3,)] r\n",
      "        \u001B[34m\u001B[22m\u001B[1min \u001B[39m\u001B[22m\u001B[22m(s,) }\n",
      "      name=collapse\n",
      "    ] p\n",
      "    t\u001B[35m:f32[10,1,569,18012]\u001B[39m = broadcast_in_dim[\n",
      "      broadcast_dimensions=(0, 2, 3)\n",
      "      shape=(10, 1, 569, 18012)\n",
      "    ] m\n",
      "    u\u001B[35m:f32[1,4,569,18012]\u001B[39m = broadcast_in_dim[\n",
      "      broadcast_dimensions=(1, 2, 3)\n",
      "      shape=(1, 4, 569, 18012)\n",
      "    ] c\n",
      "    v\u001B[35m:f32[10,4,569,18012]\u001B[39m = mul u t\n",
      "    w\u001B[35m:f32[10,4,569]\u001B[39m = pjit[\n",
      "      jaxpr={ \u001B[34m\u001B[22m\u001B[1mlambda \u001B[39m\u001B[22m\u001B[22m; r\u001B[35m:f32[10,4,569,18012]\u001B[39m. \u001B[34m\u001B[22m\u001B[1mlet\n",
      "          \u001B[39m\u001B[22m\u001B[22ms\u001B[35m:f32[10,4,569]\u001B[39m = reduce_sum[axes=(3,)] r\n",
      "        \u001B[34m\u001B[22m\u001B[1min \u001B[39m\u001B[22m\u001B[22m(s,) }\n",
      "      name=collapse\n",
      "    ] v\n",
      "  \u001B[34m\u001B[22m\u001B[1min \u001B[39m\u001B[22m\u001B[22m(q, w) }\n"
     ]
    }
   ],
   "source": [
    "import jax\n",
    "print(jax.make_jaxpr(get_vs_mapped)(ms, reshaped_phi_data, reshaped_inputs))"
   ],
   "metadata": {
    "collapsed": false,
    "ExecuteTime": {
     "end_time": "2023-11-25T17:45:07.166257Z",
     "start_time": "2023-11-25T17:45:07.143245Z"
    }
   },
   "id": "6f0a396f4d91d67a"
  }
 ],
 "metadata": {
  "kernelspec": {
   "name": "for_cosmoblender",
   "language": "python",
   "display_name": "for_cosmoblender"
  },
  "language_info": {
   "codemirror_mode": {
    "name": "ipython",
    "version": 2
   },
   "file_extension": ".py",
   "mimetype": "text/x-python",
   "name": "python",
   "nbconvert_exporter": "python",
   "pygments_lexer": "ipython2",
   "version": "2.7.6"
  }
 },
 "nbformat": 4,
 "nbformat_minor": 5
}
