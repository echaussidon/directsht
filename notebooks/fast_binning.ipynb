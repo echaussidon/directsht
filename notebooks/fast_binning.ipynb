{
 "cells": [
  {
   "cell_type": "code",
   "execution_count": 1,
   "id": "initial_id",
   "metadata": {
    "collapsed": true,
    "ExecuteTime": {
     "end_time": "2023-11-23T06:12:45.717040Z",
     "start_time": "2023-11-23T06:12:45.193363Z"
    }
   },
   "outputs": [],
   "source": [
    "import sys\n",
    "\n",
    "sys.path.append('../sht')\n",
    "from sht import DirectSHT\n",
    "\n",
    "import numpy as np\n",
    "from scipy.stats import mode\n",
    "import jax.numpy as jnp\n",
    "from jax import jit, vmap, device_put\n",
    "\n",
    "%load_ext autoreload\n",
    "%autoreload 2"
   ]
  },
  {
   "cell_type": "code",
   "execution_count": 3,
   "outputs": [],
   "source": [
    "# We can very quickly calculate Ylm values. As an example, compute them up to lmax=Nl\n",
    "Nl  = 500\n",
    "Nx  = 1024\n",
    "\n",
    "sht = DirectSHT(Nl,Nx)\n",
    "x_samples = sht.x"
   ],
   "metadata": {
    "collapsed": false,
    "ExecuteTime": {
     "end_time": "2023-11-23T05:51:22.808259Z",
     "start_time": "2023-11-23T05:51:21.118312Z"
    }
   },
   "id": "af87092f0ca65906"
  },
  {
   "cell_type": "code",
   "execution_count": 4,
   "outputs": [],
   "source": [
    "def get_points(Nrandoms):\n",
    "    # A function to randomly generate data points\n",
    "    thetas = np.random.uniform(np.pi/4, np.pi/2., Nrandoms)\n",
    "    phis = np.random.uniform(0, np.pi, Nrandoms)\n",
    "    wts = np.random.uniform(1, 1.5, Nrandoms)\n",
    "    \n",
    "    x=np.cos(thetas)\n",
    "\n",
    "    sorted_idx = np.argsort(x)\n",
    "    x_data_sorted = x[sorted_idx]; w_i_sorted = wts[:][sorted_idx]; phi_data_sorted = phis[:][sorted_idx]\n",
    "    return x_data_sorted, w_i_sorted, phi_data_sorted"
   ],
   "metadata": {
    "collapsed": false,
    "ExecuteTime": {
     "end_time": "2023-11-23T05:51:22.819672Z",
     "start_time": "2023-11-23T05:51:22.809264Z"
    }
   },
   "id": "79a2b1293eca6bc1"
  },
  {
   "cell_type": "code",
   "execution_count": 5,
   "outputs": [
    {
     "name": "stdout",
     "output_type": "stream",
     "text": [
      "Metal device set to: Apple M2 Max\n"
     ]
    },
    {
     "name": "stderr",
     "output_type": "stream",
     "text": [
      "2023-11-22 21:51:25.225170: W pjrt_plugin/src/mps_client.cc:534] WARNING: JAX Apple GPU support is experimental and not all JAX functionality is correctly supported!\n"
     ]
    }
   ],
   "source": [
    "Nrandoms = int(1e7)\n",
    "x_data_sorted, w_i_sorted, phi_data_sorted = get_points(Nrandoms)\n",
    "spline_idx = np.digitize(x_data_sorted, x_samples) - 1\n",
    "t = x_data_sorted - x_samples[spline_idx]\n",
    "\n",
    "# Put things in the GPU\n",
    "x_data_sorted_jax = device_put(x_data_sorted)\n",
    "spline_idx_jax = device_put(spline_idx)"
   ],
   "metadata": {
    "collapsed": false,
    "ExecuteTime": {
     "end_time": "2023-11-23T05:51:25.260441Z",
     "start_time": "2023-11-23T05:51:22.949708Z"
    }
   },
   "id": "6862b98340e55b1e"
  },
  {
   "cell_type": "code",
   "execution_count": 32,
   "outputs": [],
   "source": [
    "def find_transitions(arr):\n",
    "    '''\n",
    "    Find the indices of transitions between different values in an array\n",
    "    :param arr: 1D numpy array indicating what bin each element belongs to (must be sorted)\n",
    "    :return: 1D numpy array of indices where the value in arr changes (includes 0)\n",
    "    '''\n",
    "    # Find the differences between consecutive elements\n",
    "    differences = np.diff(arr)\n",
    "    # Find the indices where differences are non-zero\n",
    "    transition_indices = np.nonzero(differences)[0] + 1\n",
    "    # Prepend a zero for convenience\n",
    "    transition_indices = np.insert(transition_indices, 0, 0, axis=0)\n",
    "    return transition_indices\n",
    "\n",
    "def reshape_array(data, transitions, bin_num, bin_len):\n",
    "    '''\n",
    "    Reshape a 1D array into a 2D array to facilitate binning\n",
    "    :param data: 1D numpy array of data to be binned\n",
    "    :param transitions: 1D numpy array of indices where the value in data changes (includes 0)\n",
    "    :param bin_num: int. Number of bins where there is data \n",
    "    :param bin_len: int. Maximum number of points in a bin\n",
    "    :return: 2D numpy array of reshaped data, zero padded in bins with fewer points\n",
    "    '''\n",
    "    data_reshaped = np.zeros((bin_num, bin_len))\n",
    "    for i in range(bin_num-1):\n",
    "        fill_in = data[transitions[i]:transitions[i+1]]\n",
    "        data_reshaped[i,:len(fill_in)] = fill_in\n",
    "    return data_reshaped\n",
    "\n",
    "# First, we find the number of different bins that are populated\n",
    "bin_num = len(np.unique(spline_idx))\n",
    "# Then, we find the maximum number of points in a bin\n",
    "bin_len = mode(spline_idx).count\n",
    "# Find the indices of transitions between bins\n",
    "transitions = find_transitions(spline_idx)\n",
    "# Reshape the inputs into a 2D array for fast binning\n",
    "reshaped_inputs = [device_put(reshape_array(w_i_sorted*input_,transitions,bin_num,bin_len))\n",
    "                   for input_ in [(2*t+1)*(1-t)**2, t*(1-t)**2, t**2*(3-2*t), t**2*(t-1)]]\n",
    "reshaped_phi_data = device_put(reshape_array(phi_data_sorted,transitions,bin_num,bin_len))\n",
    "# Make a mask to discard spurious zeros\n",
    "mask = reshaped_inputs[0]!=0\n",
    "reshaped_inputs = [input_*mask for input_ in reshaped_inputs]\n",
    "reshaped_phi_data *= mask"
   ],
   "metadata": {
    "collapsed": false,
    "ExecuteTime": {
     "end_time": "2023-11-23T06:10:17.703304Z",
     "start_time": "2023-11-23T06:10:17.256387Z"
    }
   },
   "id": "a29ed1010fcf56f0"
  },
  {
   "cell_type": "code",
   "execution_count": 33,
   "outputs": [],
   "source": [
    "from functools import partial\n",
    "@jit\n",
    "def collapse(arr):\n",
    "    '''\n",
    "    Sum over the second axis of a 2D array -- i.e., the key binning operation!\n",
    "    :param arr: 2D numpy array, where the 1st axis contains the different bins\n",
    "                and the 2nd axis contains the data in each bin\n",
    "    :return: 1D numpy array of the sums of the data in each bin\n",
    "    '''\n",
    "    return jnp.sum(arr, axis=1)\n",
    "\n",
    "@jit\n",
    "def get_vs(m, phi_data_sorted, reshaped_inputs):\n",
    "    phi_dep_real,phi_dep_imag = [fn(m*phi_data_sorted) for fn in [jnp.cos, jnp.sin]]\n",
    "    vs_real = [collapse(input_*phi_dep_real) for input_ in reshaped_inputs]\n",
    "    vs_imag = [collapse(input_*phi_dep_imag) for input_ in reshaped_inputs]\n",
    "    return vs_real, vs_imag"
   ],
   "metadata": {
    "collapsed": false,
    "ExecuteTime": {
     "end_time": "2023-11-23T06:11:50.321883Z",
     "start_time": "2023-11-23T06:11:50.308097Z"
    }
   },
   "id": "358634b9359f38cf"
  },
  {
   "cell_type": "code",
   "execution_count": 35,
   "outputs": [
    {
     "name": "stdout",
     "output_type": "stream",
     "text": [
      "1.79 s ± 289 ms per loop (mean ± std. dev. of 7 runs, 1 loop each)\n"
     ]
    }
   ],
   "source": [
    "%%timeit\n",
    "vs_list = []\n",
    "for i, m in enumerate(ms):\n",
    "    vs_list.append([get_vs(m, reshaped_phi_data, reshaped_inputs)])"
   ],
   "metadata": {
    "collapsed": false,
    "ExecuteTime": {
     "end_time": "2023-11-23T06:12:31.965888Z",
     "start_time": "2023-11-23T06:12:17.867372Z"
    }
   },
   "id": "f58a4b7ab4f2d697"
  },
  {
   "cell_type": "code",
   "execution_count": null,
   "outputs": [],
   "source": [],
   "metadata": {
    "collapsed": false
   },
   "id": "524762d2652f2fcc"
  }
 ],
 "metadata": {
  "kernelspec": {
   "display_name": "Python 3",
   "language": "python",
   "name": "python3"
  },
  "language_info": {
   "codemirror_mode": {
    "name": "ipython",
    "version": 2
   },
   "file_extension": ".py",
   "mimetype": "text/x-python",
   "name": "python",
   "nbconvert_exporter": "python",
   "pygments_lexer": "ipython2",
   "version": "2.7.6"
  }
 },
 "nbformat": 4,
 "nbformat_minor": 5
}
