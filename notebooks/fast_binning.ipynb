{
 "cells": [
  {
   "cell_type": "code",
   "execution_count": 2,
   "id": "initial_id",
   "metadata": {
    "collapsed": true,
    "ExecuteTime": {
     "end_time": "2023-11-23T04:59:46.356608Z",
     "start_time": "2023-11-23T04:59:46.322977Z"
    }
   },
   "outputs": [
    {
     "name": "stdout",
     "output_type": "stream",
     "text": [
      "The autoreload extension is already loaded. To reload it, use:\n",
      "  %reload_ext autoreload\n"
     ]
    }
   ],
   "source": [
    "import sys\n",
    "\n",
    "sys.path.append('/Users/antonbaleatolizancos/Projects/direct_SHT/direct_sht/sht')\n",
    "from sht import DirectSHT\n",
    "\n",
    "import numpy as np\n",
    "import numba as nb\n",
    "import matplotlib.pyplot as plt\n",
    "import jax.numpy as jnp\n",
    "from jax import jit, vmap, device_put\n",
    "import time\n",
    "\n",
    "%load_ext autoreload\n",
    "%autoreload 2"
   ]
  },
  {
   "cell_type": "code",
   "execution_count": 3,
   "outputs": [],
   "source": [
    "# We can very quickly calculate Ylm values. As an example, compute them up to lmax=Nl\n",
    "Nl  = 500\n",
    "Nx  = 1024\n",
    "\n",
    "sht = DirectSHT(Nl,Nx)\n",
    "x_samples = sht.x"
   ],
   "metadata": {
    "collapsed": false,
    "ExecuteTime": {
     "end_time": "2023-11-23T04:59:48.110728Z",
     "start_time": "2023-11-23T04:59:46.510055Z"
    }
   },
   "id": "af87092f0ca65906"
  },
  {
   "cell_type": "code",
   "execution_count": 4,
   "outputs": [],
   "source": [
    "def get_points(Nrandoms):\n",
    "    # A function to randomly generate data points\n",
    "    thetas = np.random.uniform(np.pi/4, np.pi/2., Nrandoms)\n",
    "    phis = np.random.uniform(0, np.pi, Nrandoms)\n",
    "    wts = np.random.uniform(1, 1.5, Nrandoms)\n",
    "    \n",
    "    x=np.cos(thetas)\n",
    "\n",
    "    sorted_idx = np.argsort(x)\n",
    "    x_data_sorted = x[sorted_idx]; w_i_sorted = wts[:][sorted_idx]; phi_data_sorted = phis[:][sorted_idx]\n",
    "    return x_data_sorted, w_i_sorted, phi_data_sorted"
   ],
   "metadata": {
    "collapsed": false,
    "ExecuteTime": {
     "end_time": "2023-11-23T04:59:48.123494Z",
     "start_time": "2023-11-23T04:59:48.112168Z"
    }
   },
   "id": "79a2b1293eca6bc1"
  },
  {
   "cell_type": "code",
   "execution_count": 5,
   "outputs": [
    {
     "name": "stdout",
     "output_type": "stream",
     "text": [
      "Metal device set to: Apple M2 Max\n"
     ]
    },
    {
     "name": "stderr",
     "output_type": "stream",
     "text": [
      "2023-11-22 20:59:50.249816: W pjrt_plugin/src/mps_client.cc:534] WARNING: JAX Apple GPU support is experimental and not all JAX functionality is correctly supported!\n"
     ]
    }
   ],
   "source": [
    "Nrandoms = int(1e7)\n",
    "x_data_sorted, w_i_sorted, phi_data_sorted = get_points(Nrandoms)\n",
    "spline_idx = np.digitize(x_data_sorted, x_samples) - 1\n",
    "t = x_data_sorted - x_samples[spline_idx]\n",
    "\n",
    "# Put things in the GPU\n",
    "x_data_sorted_jax = device_put(x_data_sorted)\n",
    "spline_idx_jax = device_put(spline_idx)"
   ],
   "metadata": {
    "collapsed": false,
    "ExecuteTime": {
     "end_time": "2023-11-23T04:59:50.273173Z",
     "start_time": "2023-11-23T04:59:48.123777Z"
    }
   },
   "id": "6862b98340e55b1e"
  },
  {
   "cell_type": "code",
   "execution_count": 47,
   "outputs": [],
   "source": [
    "from scipy.stats import mode\n",
    "\n",
    "def find_transitions(arr):\n",
    "    # Find the differences between consecutive elements\n",
    "    differences = np.diff(arr)\n",
    "    # Find the indices where differences are non-zero\n",
    "    transition_indices = np.nonzero(differences)[0] + 1\n",
    "    # Prepend a zero for convenience\n",
    "    transition_indices = np.insert(transition_indices, 0, 0, axis=0)\n",
    "    return transition_indices\n",
    "\n",
    "def reshape_array(data, transitions,spline_idx, bin_num, bin_len):\n",
    "    # Reshape the data into a 2D array\n",
    "    data_reshaped = np.zeros((bin_num, bin_len))\n",
    "    for i in range(bin_num-1):\n",
    "        fill_in = data[transitions[i]:transitions[i+1]]\n",
    "        data_reshaped[i,:len(fill_in)] = fill_in\n",
    "    return data_reshaped\n",
    "\n",
    "# First, we find the number of different bins that are populated\n",
    "bin_num = len(np.unique(spline_idx))\n",
    "# Then, we find the maximum number of points in a bin\n",
    "bin_len = mode(spline_idx).count\n",
    "# Find the indices of transitions between bins\n",
    "transitions = find_transitions(spline_idx)\n",
    "# Reshape the inputs into a 2D array for fast binning\n",
    "reshaped_inputs = [device_put(reshape_array(w_i_sorted*input_,transitions,spline_idx,bin_num,bin_len)) for input_ in [(2*t+1)*(1-t)**2, t*(1-t)**2, t**2*(3-2*t), t**2*(t-1)]]\n",
    "reshaped_phi_data = device_put(reshape_array(phi_data_sorted,transitions,spline_idx,bin_num,bin_len))\n",
    "# Make a mask to discard spurious zeros\n",
    "mask = reshaped_inputs[0]!=0\n",
    "reshaped_inputs = [input_*mask for input_ in reshaped_inputs]\n",
    "reshaped_phi_data *= mask"
   ],
   "metadata": {
    "collapsed": false,
    "ExecuteTime": {
     "end_time": "2023-11-23T05:36:22.411814Z",
     "start_time": "2023-11-23T05:36:21.976606Z"
    }
   },
   "id": "a29ed1010fcf56f0"
  },
  {
   "cell_type": "code",
   "execution_count": 50,
   "outputs": [],
   "source": [
    "from functools import partial\n",
    "@jit\n",
    "def collapse(arr):\n",
    "    return jnp.sum(arr, axis=1)\n",
    "\n",
    "@partial(jit, static_argnames=['m'])\n",
    "def cosmphi(phi, m):\n",
    "    return jnp.cos(m*phi)\n",
    "\n",
    "@partial(jit, static_argnames=['m'])\n",
    "def sinmphi(phi, m):\n",
    "    return jnp.sin(m*phi)\n",
    "\n",
    "#@partial(jit, static_argnames=['m'])\n",
    "def get_vs(m, phi_data_sorted, reshaped_inputs):\n",
    "    phi_dep_real,phi_dep_imag = [fn(m*phi_data_sorted) for fn in [jnp.cos, jnp.sin]]\n",
    "    vs_real = [collapse(input_*phi_dep_real) for input_ in reshaped_inputs]\n",
    "    vs_imag = [collapse(input_*phi_dep_imag) for input_ in reshaped_inputs]\n",
    "    return vs_real, vs_imag\n",
    "\n",
    "get_vs_mapped = vmap(get_vs, in_axes=(0,None,None))"
   ],
   "metadata": {
    "collapsed": false,
    "ExecuteTime": {
     "end_time": "2023-11-23T05:37:58.760735Z",
     "start_time": "2023-11-23T05:37:58.738517Z"
    }
   },
   "id": "358634b9359f38cf"
  }
 ],
 "metadata": {
  "kernelspec": {
   "display_name": "Python 3",
   "language": "python",
   "name": "python3"
  },
  "language_info": {
   "codemirror_mode": {
    "name": "ipython",
    "version": 2
   },
   "file_extension": ".py",
   "mimetype": "text/x-python",
   "name": "python",
   "nbconvert_exporter": "python",
   "pygments_lexer": "ipython2",
   "version": "2.7.6"
  }
 },
 "nbformat": 4,
 "nbformat_minor": 5
}
