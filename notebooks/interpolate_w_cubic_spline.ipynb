{
 "cells": [
  {
   "cell_type": "code",
   "execution_count": 1,
   "id": "cd234252b8254bbd",
   "metadata": {
    "collapsed": false,
    "ExecuteTime": {
     "end_time": "2023-11-13T23:26:25.793834Z",
     "start_time": "2023-11-13T23:26:25.600689Z"
    }
   },
   "outputs": [],
   "source": [
    "from sht.sht import DirectSHT\n",
    "import sht.interpolation as interp\n",
    "import numpy as np\n",
    "\n",
    "%load_ext autoreload\n",
    "%autoreload 2"
   ]
  },
  {
   "cell_type": "code",
   "execution_count": 2,
   "id": "initial_id",
   "metadata": {
    "ExecuteTime": {
     "end_time": "2023-11-13T23:26:26.577810Z",
     "start_time": "2023-11-13T23:26:25.798890Z"
    }
   },
   "outputs": [],
   "source": [
    "# We can very quickly calculate Ylm values. As an example, compute them up to lmax=Nl\n",
    "Nl  = 500\n",
    "Nx  = 1024\n",
    "theta_samples = (np.arange(Nx)+0.5)/Nx\n",
    "sht = DirectSHT(Nl,Nx)"
   ]
  },
  {
   "cell_type": "code",
   "execution_count": 3,
   "id": "0b0f8a0f-27e0-48b7-ab0e-13ba5d6a3e66",
   "metadata": {
    "ExecuteTime": {
     "end_time": "2023-11-13T23:26:26.586715Z",
     "start_time": "2023-11-13T23:26:26.578293Z"
    }
   },
   "outputs": [],
   "source": [
    "# Now let's explore cubic spline interpolation of one of these alm's\n",
    "ell = 100\n",
    "m = 33\n",
    "Ylm = sht.Yv[sht.indx(ell, m), :]"
   ]
  },
  {
   "cell_type": "code",
   "execution_count": 4,
   "id": "7a525722e7f3100a",
   "metadata": {
    "collapsed": false,
    "ExecuteTime": {
     "end_time": "2023-11-13T23:26:27.885492Z",
     "start_time": "2023-11-13T23:26:26.587136Z"
    }
   },
   "outputs": [],
   "source": [
    "# Let's generate some mock data\n",
    "Nrandoms = int(1e7)\n",
    "theta_data = np.random.uniform(0,np.pi,Nrandoms)\n",
    "w_i = np.random.uniform(0,1, Nrandoms)\n",
    "\n",
    "# We will want to sort the data in ascending order of theta\n",
    "sorted_indices = np.argsort(theta_data)\n",
    "theta_data_sorted = theta_data[sorted_indices]\n",
    "w_i_sorted = w_i[sorted_indices] # The observation weights for each galaxy/random"
   ]
  },
  {
   "cell_type": "code",
   "execution_count": 5,
   "id": "7aed167194c3443f",
   "metadata": {
    "collapsed": false,
    "ExecuteTime": {
     "end_time": "2023-11-13T23:26:28.135082Z",
     "start_time": "2023-11-13T23:26:27.886214Z"
    }
   },
   "outputs": [],
   "source": [
    "# Calculate theta_data-theta_sample[i] for each theta_data\n",
    "which_spline_idx = np.digitize(theta_data_sorted, theta_samples) - 1\n",
    "digitized_diffs = (theta_data_sorted - theta_samples[which_spline_idx])"
   ]
  },
  {
   "cell_type": "code",
   "execution_count": 6,
   "id": "6981b60ee089031e",
   "metadata": {
    "collapsed": false,
    "ExecuteTime": {
     "end_time": "2023-11-13T23:26:28.499334Z",
     "start_time": "2023-11-13T23:26:28.135273Z"
    }
   },
   "outputs": [
    {
     "name": "stdout",
     "output_type": "stream",
     "text": [
      "Note that these take up a negligible amount of memory: 0.032768 Mb\n"
     ]
    }
   ],
   "source": [
    "# We now sum up all the w_p (theta_data_p-theta_sample[i])^n in each spline region i, for n in {0,1,2,3}, and a galaxy/random labeled by p\n",
    "summed_0_diffs = interp.get_sum(theta_samples, theta_data_sorted,\n",
    "                         w_i_sorted * np.ones_like(digitized_diffs))\n",
    "summed_1_diffs = interp.get_sum(theta_samples, theta_data_sorted,\n",
    "                         w_i_sorted * digitized_diffs)\n",
    "summed_2_diffs = interp.get_sum(theta_samples, theta_data_sorted,\n",
    "                         w_i_sorted * digitized_diffs**2)\n",
    "summed_3_diffs = interp.get_sum(theta_samples, theta_data_sorted,\n",
    "                         w_i_sorted * digitized_diffs**3)\n",
    "\n",
    "print('Note that these take up a negligible amount of memory: {} Mb'.format(4*summed_0_diffs.nbytes/1e6))"
   ]
  },
  {
   "cell_type": "code",
   "execution_count": 7,
   "id": "a2e65531b506ea44",
   "metadata": {
    "collapsed": false,
    "ExecuteTime": {
     "end_time": "2023-11-13T23:26:29.755707Z",
     "start_time": "2023-11-13T23:26:28.498480Z"
    }
   },
   "outputs": [],
   "source": [
    "# Now the name of the game is to calculate the 4 spline coefficients in each region, multiply them by the summed_..._diffs\n",
    "# and finally, sum over all splines\n",
    "a_lm = np.sum(interp.cubic_spline(theta_samples, Ylm, np.arange(1024),\n",
    "                           summed_0_diffs, summed_1_diffs, summed_2_diffs, summed_3_diffs))\n",
    "\n",
    "# After that, we just loop over ell and m. And this is actually trivially parallelizable"
   ]
  },
  {
   "cell_type": "code",
   "execution_count": 8,
   "id": "7ecabcb0fc49d88f",
   "metadata": {
    "collapsed": false,
    "ExecuteTime": {
     "end_time": "2023-11-13T23:26:44.717578Z",
     "start_time": "2023-11-13T23:26:29.756641Z"
    }
   },
   "outputs": [
    {
     "name": "stdout",
     "output_type": "stream",
     "text": [
      "18.4 ms ± 43.6 µs per loop (mean ± std. dev. of 7 runs, 100 loops each)\n"
     ]
    }
   ],
   "source": [
    "%%timeit\n",
    "np.sum(interp.cubic_spline(theta_samples, Ylm, np.arange(1024),\n",
    "                    summed_0_diffs, summed_1_diffs, summed_2_diffs, summed_3_diffs))"
   ]
  },
  {
   "cell_type": "code",
   "execution_count": null,
   "outputs": [],
   "source": [],
   "metadata": {
    "collapsed": false
   },
   "id": "1c43b689f73bb4d4"
  }
 ],
 "metadata": {
  "kernelspec": {
   "display_name": "for_cosmoblender",
   "language": "python",
   "name": "for_cosmoblender"
  },
  "language_info": {
   "codemirror_mode": {
    "name": "ipython",
    "version": 3
   },
   "file_extension": ".py",
   "mimetype": "text/x-python",
   "name": "python",
   "nbconvert_exporter": "python",
   "pygments_lexer": "ipython3",
   "version": "3.11.5"
  }
 },
 "nbformat": 4,
 "nbformat_minor": 5
}
