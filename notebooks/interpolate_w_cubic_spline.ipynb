{
 "cells": [
  {
   "cell_type": "code",
   "execution_count": 1,
   "id": "cd234252b8254bbd",
   "metadata": {
    "ExecuteTime": {
     "end_time": "2023-11-13T02:30:19.477379Z",
     "start_time": "2023-11-13T02:30:19.292875Z"
    },
    "collapsed": false,
    "jupyter": {
     "outputs_hidden": false
    }
   },
   "outputs": [],
   "source": [
    "from sht.sht import DirectSHT\n",
    "import sht.interpolation as interp\n",
    "import numpy as np\n",
    "\n",
    "%load_ext autoreload\n",
    "%autoreload 2"
   ]
  },
  {
   "cell_type": "code",
   "execution_count": 2,
   "id": "initial_id",
   "metadata": {
    "ExecuteTime": {
     "end_time": "2023-11-13T02:30:19.542250Z",
     "start_time": "2023-11-13T02:30:19.534462Z"
    }
   },
   "outputs": [],
   "source": [
    "# We can very quickly calculate Ylm values. As an example, compute them up to lmax=Nl\n",
    "Nl  = 500\n",
    "Nx  = 1024\n",
    "theta_samples = (np.arange(Nx)+0.5)/Nx\n",
    "sht = DirectSHT(Nl,Nx)"
   ]
  },
  {
   "cell_type": "code",
   "execution_count": 3,
   "id": "0b0f8a0f-27e0-48b7-ab0e-13ba5d6a3e66",
   "metadata": {},
   "outputs": [],
   "source": [
    "# Now let's explore cubic spline interpolation of one of these alm's\n",
    "ell = 100\n",
    "m = 33\n",
    "Ylm = sht.Yv[sht.indx(ell, m), :]"
   ]
  },
  {
   "cell_type": "code",
   "execution_count": 4,
   "id": "7a525722e7f3100a",
   "metadata": {
    "ExecuteTime": {
     "end_time": "2023-11-13T02:30:20.709191Z",
     "start_time": "2023-11-13T02:30:19.919306Z"
    },
    "collapsed": false,
    "jupyter": {
     "outputs_hidden": false
    }
   },
   "outputs": [],
   "source": [
    "# Let's generate some mock data\n",
    "Nrandoms = int(1e7)\n",
    "theta_data = np.random.uniform(0,np.pi,Nrandoms)\n",
    "w_i = np.random.uniform(0,1, Nrandoms)\n",
    "\n",
    "# We will want to sort the data in ascending order of theta\n",
    "sorted_indices = np.argsort(theta_data)\n",
    "theta_data_sorted = theta_data[sorted_indices]\n",
    "w_i_sorted = w_i[sorted_indices] # The observation weights for each galaxy/random"
   ]
  },
  {
   "cell_type": "code",
   "execution_count": 5,
   "id": "7aed167194c3443f",
   "metadata": {
    "ExecuteTime": {
     "end_time": "2023-11-13T02:30:22.441127Z",
     "start_time": "2023-11-13T02:30:20.710667Z"
    },
    "collapsed": false,
    "jupyter": {
     "outputs_hidden": false
    }
   },
   "outputs": [],
   "source": [
    "# Calculate theta_data-theta_sample[i] for each theta_data\n",
    "which_spline_idx = np.digitize(theta_data_sorted, theta_samples) - 1\n",
    "digitized_diffs = (theta_data_sorted - theta_samples[which_spline_idx])"
   ]
  },
  {
   "cell_type": "code",
   "execution_count": 6,
   "id": "6981b60ee089031e",
   "metadata": {
    "ExecuteTime": {
     "end_time": "2023-11-13T21:31:03.424436Z",
     "start_time": "2023-11-13T21:31:03.337413Z"
    },
    "collapsed": false,
    "jupyter": {
     "outputs_hidden": false
    }
   },
   "outputs": [
    {
     "name": "stdout",
     "output_type": "stream",
     "text": [
      "Note that these take up a negligible amount of memory: 0.032768 Mb\n"
     ]
    }
   ],
   "source": [
    "# We now sum up all the w_p (theta_data_p-theta_sample[i])^n in each spline region i, for n in {0,1,2,3}, and a galaxy/random labeled by p\n",
    "summed_0_diffs = interp.get_sum(theta_samples, theta_data_sorted,\n",
    "                         w_i_sorted * np.ones_like(digitized_diffs))\n",
    "summed_1_diffs = interp.get_sum(theta_samples, theta_data_sorted,\n",
    "                         w_i_sorted * digitized_diffs)\n",
    "summed_2_diffs = interp.get_sum(theta_samples, theta_data_sorted,\n",
    "                         w_i_sorted * digitized_diffs**2)\n",
    "summed_3_diffs = interp.get_sum(theta_samples, theta_data_sorted,\n",
    "                         w_i_sorted * digitized_diffs**3)\n",
    "\n",
    "print('Note that these take up a negligible amount of memory: {} Mb'.format(4*summed_0_diffs.nbytes/1e6))"
   ]
  },
  {
   "cell_type": "code",
   "execution_count": null,
   "id": "a2e65531b506ea44",
   "metadata": {
    "ExecuteTime": {
     "end_time": "2023-11-13T02:30:23.031748Z",
     "start_time": "2023-11-13T02:30:22.682292Z"
    },
    "collapsed": false,
    "jupyter": {
     "outputs_hidden": false
    }
   },
   "outputs": [],
   "source": [
    "# Now the name of the game is to calculate the 4 spline coefficients in each region, multiply them by the summed_..._diffs\n",
    "# and finally, sum over all splines\n",
    "a_lm = np.sum(interp.cubic_spline(theta_samples, Ylm, np.arange(1024),\n",
    "                           summed_0_diffs, summed_1_diffs, summed_2_diffs, summed_3_diffs))\n",
    "\n",
    "# After that, we just loop over ell and m. And this is actually trivially parallelizable"
   ]
  },
  {
   "cell_type": "code",
   "execution_count": 10,
   "id": "7ecabcb0fc49d88f",
   "metadata": {
    "ExecuteTime": {
     "end_time": "2023-11-13T02:30:23.035756Z",
     "start_time": "2023-11-13T02:30:23.034082Z"
    },
    "collapsed": false,
    "jupyter": {
     "outputs_hidden": false
    }
   },
   "outputs": [
    {
     "name": "stdout",
     "output_type": "stream",
     "text": [
      "17.9 ms ± 35.4 µs per loop (mean ± std. dev. of 7 runs, 100 loops each)\n"
     ]
    }
   ],
   "source": [
    "%%timeit\n",
    "np.sum(interp.cubic_spline(theta_samples, Ylm, np.arange(1024),\n",
    "                    summed_0_diffs, summed_1_diffs, summed_2_diffs, summed_3_diffs))"
   ]
  },
  {
   "cell_type": "code",
   "execution_count": null,
   "id": "7d1021ad-08c3-4261-bada-b1d86ce10b1e",
   "metadata": {},
   "outputs": [],
   "source": []
  }
 ],
 "metadata": {
  "kernelspec": {
   "display_name": "for_cosmoblender",
   "language": "python",
   "name": "for_cosmoblender"
  },
  "language_info": {
   "codemirror_mode": {
    "name": "ipython",
    "version": 3
   },
   "file_extension": ".py",
   "mimetype": "text/x-python",
   "name": "python",
   "nbconvert_exporter": "python",
   "pygments_lexer": "ipython3",
   "version": "3.11.5"
  }
 },
 "nbformat": 4,
 "nbformat_minor": 5
}
