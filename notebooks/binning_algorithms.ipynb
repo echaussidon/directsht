{
 "cells": [
  {
   "cell_type": "code",
   "execution_count": 1,
   "id": "initial_id",
   "metadata": {
    "collapsed": true,
    "ExecuteTime": {
     "end_time": "2023-11-21T03:05:11.971203Z",
     "start_time": "2023-11-21T03:05:10.850105Z"
    }
   },
   "outputs": [],
   "source": [
    "import sys\n",
    "\n",
    "sys.path.append('/Users/antonbaleatolizancos/Projects/direct_SHT/direct_sht/sht')\n",
    "from sht import DirectSHT\n",
    "\n",
    "import numpy as np\n",
    "import healpy as hp\n",
    "import matplotlib.pyplot as plt\n",
    "from numpy.random import RandomState\n",
    "import healpy as hp\n",
    "\n",
    "%load_ext autoreload\n",
    "%autoreload 2"
   ]
  },
  {
   "cell_type": "code",
   "execution_count": 14,
   "outputs": [],
   "source": [
    "# We can very quickly calculate Ylm values. As an example, compute them up to lmax=Nl\n",
    "Nl  = 100\n",
    "Nx  = 1024\n",
    "\n",
    "sht = DirectSHT(Nl,Nx)"
   ],
   "metadata": {
    "collapsed": false,
    "ExecuteTime": {
     "end_time": "2023-11-21T03:08:41.100747Z",
     "start_time": "2023-11-21T03:08:41.043501Z"
    }
   },
   "id": "25e04625bc802329"
  },
  {
   "cell_type": "code",
   "execution_count": 15,
   "outputs": [],
   "source": [
    "# Place a single point source\n",
    "phis   = np.array([np.pi/4.0, np.pi/2.0])#np.array([np.pi/4.0])\n",
    "thetas = np.array([3*np.pi/8, np.pi/5]) #np.ones_like(phis)*3*np.pi/8\n",
    "wts    = np.ones_like(thetas)"
   ],
   "metadata": {
    "collapsed": false,
    "ExecuteTime": {
     "end_time": "2023-11-21T03:08:41.421293Z",
     "start_time": "2023-11-21T03:08:41.399705Z"
    }
   },
   "id": "fff82d309c2a6a17"
  },
  {
   "cell_type": "code",
   "execution_count": 16,
   "outputs": [
    {
     "name": "stdout",
     "output_type": "stream",
     "text": [
      "Sorting took  1.9073486328125e-05  seconds.\n",
      "Digitizing took  0.0003681182861328125  seconds.\n",
      "Precomputing vs took  0.3545510768890381  seconds.\n",
      "Computing alm's took  0.055432796478271484  seconds.\n"
     ]
    }
   ],
   "source": [
    "alms = sht(thetas, phis, wts) "
   ],
   "metadata": {
    "collapsed": false,
    "ExecuteTime": {
     "end_time": "2023-11-21T03:08:42.196084Z",
     "start_time": "2023-11-21T03:08:41.764147Z"
    }
   },
   "id": "74c7bd11b4de9b47"
  },
  {
   "cell_type": "code",
   "execution_count": 17,
   "outputs": [],
   "source": [
    "def make_alm_table(alms):\n",
    "    lmax = hp.Alm.getlmax(alms.shape[0])\n",
    "    table = np.zeros((lmax+1,lmax+1), dtype=np.complex128)\n",
    "    for l in range(lmax+1):\n",
    "        for m in range(l+1):\n",
    "            table[l,m] = alms[hp.Alm.getidx(lmax, l, m)]\n",
    "    return table"
   ],
   "metadata": {
    "collapsed": false,
    "ExecuteTime": {
     "end_time": "2023-11-21T03:08:42.209341Z",
     "start_time": "2023-11-21T03:08:42.196028Z"
    }
   },
   "id": "1ffe9105b5544532"
  },
  {
   "cell_type": "code",
   "execution_count": 18,
   "outputs": [
    {
     "name": "stdout",
     "output_type": "stream",
     "text": [
      "[[ 5.64189613e-01+0.00000000e+00j  0.00000000e+00+0.00000000e+00j\n",
      "   0.00000000e+00+0.00000000e+00j ...  0.00000000e+00+0.00000000e+00j\n",
      "   0.00000000e+00+0.00000000e+00j  0.00000000e+00+0.00000000e+00j]\n",
      " [ 5.82266331e-01+0.00000000e+00j -2.25705266e-01+4.28782225e-01j\n",
      "   0.00000000e+00+0.00000000e+00j ...  0.00000000e+00+0.00000000e+00j\n",
      "   0.00000000e+00+0.00000000e+00j  0.00000000e+00+0.00000000e+00j]\n",
      " [ 1.27056524e-01+0.00000000e+00j -1.93136409e-01+5.60505986e-01j\n",
      "  -1.33455068e-01-3.29706609e-01j ...  0.00000000e+00+0.00000000e+00j\n",
      "   0.00000000e+00+0.00000000e+00j  0.00000000e+00+0.00000000e+00j]\n",
      " ...\n",
      " [-1.10271320e-01+0.00000000e+00j -1.95788637e-01-1.00541860e-01j\n",
      "  -2.86679894e-01+1.82412341e-01j ... -3.07666254e-04+3.07667768e-04j\n",
      "   0.00000000e+00+0.00000000e+00j  0.00000000e+00+0.00000000e+00j]\n",
      " [-2.50483125e-01+0.00000000e+00j -1.95253193e-01-2.16705129e-01j\n",
      "  -5.42143434e-02-1.87102497e-01j ... -1.65267778e-03+1.65268581e-03j\n",
      "  -1.87206051e-09-4.03005048e-04j  0.00000000e+00+0.00000000e+00j]\n",
      " [-1.37479365e-01+0.00000000e+00j  4.63668220e-02-4.16626155e-01j\n",
      "   1.98977783e-01-3.25680733e-01j ... -6.10603718e-03+6.10606698e-03j\n",
      "  -1.01069944e-08-2.17576814e-03j  2.63935915e-04+2.63936323e-04j]]\n"
     ]
    }
   ],
   "source": [
    "alm_tab = make_alm_table(alms)\n",
    "print(alm_tab)"
   ],
   "metadata": {
    "collapsed": false,
    "ExecuteTime": {
     "end_time": "2023-11-21T03:08:42.460611Z",
     "start_time": "2023-11-21T03:08:42.437089Z"
    }
   },
   "id": "18a02311cec44c47"
  },
  {
   "cell_type": "code",
   "execution_count": 21,
   "outputs": [
    {
     "data": {
      "text/plain": "array([ 3.71832490e-01-0.00000000e+00j, -1.95358425e-01+1.72981948e-01j,\n        2.07984984e-01-1.79865450e-01j, -1.99779853e-01+5.45256376e-01j,\n        1.00154072e-01+3.20118652e-08j,  2.07990631e-01+4.94609743e-01j,\n        3.46753627e-01+1.41438961e-01j,  2.18636051e-01-4.80199754e-02j,\n        5.20151496e-01+1.63497802e-07j, -2.29476795e-01-2.45678306e-01j,\n        4.08247769e-01-5.57964928e-02j, -2.37207100e-01-1.13746375e-02j,\n        2.61257350e-01+1.22845796e-08j,  2.37348437e-01-1.87571272e-01j,\n       -6.40262663e-02-8.33793506e-02j,  2.24372894e-01-5.99780679e-01j,\n       -5.61992109e-01-3.34364302e-07j, -1.92306429e-01-1.98443577e-01j,\n       -4.03464168e-01+2.51848698e-01j, -1.36098370e-01+5.65311491e-01j,\n        4.06996876e-01+3.33219106e-07j,  5.40311560e-02+3.82001758e-01j,\n        5.12368500e-01-3.53893578e-01j, -4.87990230e-02-3.23294818e-01j,\n       -3.50196034e-01-1.77648598e-08j,  1.56619176e-01-1.86077744e-01j,\n       -5.78389049e-01+2.24346668e-01j,  2.40645364e-01+4.01702046e-01j,\n        6.15366876e-01+1.57645889e-06j, -2.62112975e-01-6.99043274e-01j,\n       -2.94681251e-01+1.80313557e-01j, -1.85946241e-01+3.64684761e-01j,\n        4.59539622e-01+3.90344155e-07j,  8.94168671e-03-4.08704616e-02j,\n       -2.31673270e-02-3.79273951e-01j, -2.03618601e-01+2.13569000e-01j,\n       -1.44261792e-01-1.00388595e-08j,  3.03532392e-01+3.02076995e-01j,\n       -4.95932007e-04-2.53829449e-01j,  1.33602753e-01-1.33446053e-01j,\n       -4.69264716e-01-6.33945604e-07j,  2.46328965e-01+2.46316656e-01j,\n       -3.10487485e-06+5.64836152e-02j,  3.16637039e-01-3.16636086e-01j,\n       -6.14566445e-01-1.61666628e-06j,  3.85637283e-01+3.85638088e-01j,\n       -1.99477952e-07-3.59489888e-01j, -1.27844363e-01+1.27843931e-01j,\n        6.74194545e-02+6.43175291e-09j, -1.16255498e-02-1.16256038e-02j])"
     },
     "execution_count": 21,
     "metadata": {},
     "output_type": "execute_result"
    }
   ],
   "source": [
    "# Get all alms at a given l\n",
    "ell = 49\n",
    "np.conj(alm_tab[ell,:ell+1])"
   ],
   "metadata": {
    "collapsed": false,
    "ExecuteTime": {
     "end_time": "2023-11-21T03:10:32.185751Z",
     "start_time": "2023-11-21T03:10:32.163515Z"
    }
   },
   "id": "b2cec65a00d9396b"
  },
  {
   "cell_type": "code",
   "execution_count": null,
   "outputs": [],
   "source": [],
   "metadata": {
    "collapsed": false
   },
   "id": "a8267f709d92aaf2"
  }
 ],
 "metadata": {
  "kernelspec": {
   "name": "for_cosmoblender",
   "language": "python",
   "display_name": "for_cosmoblender"
  },
  "language_info": {
   "codemirror_mode": {
    "name": "ipython",
    "version": 2
   },
   "file_extension": ".py",
   "mimetype": "text/x-python",
   "name": "python",
   "nbconvert_exporter": "python",
   "pygments_lexer": "ipython2",
   "version": "2.7.6"
  }
 },
 "nbformat": 4,
 "nbformat_minor": 5
}
