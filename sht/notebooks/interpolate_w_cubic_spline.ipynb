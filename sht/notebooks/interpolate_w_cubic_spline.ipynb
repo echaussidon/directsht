{
 "cells": [
  {
   "cell_type": "code",
   "execution_count": 2,
   "id": "cd234252b8254bbd",
   "metadata": {
    "ExecuteTime": {
     "end_time": "2023-11-13T02:30:19.477379Z",
     "start_time": "2023-11-13T02:30:19.292875Z"
    },
    "collapsed": false
   },
   "outputs": [],
   "source": [
    "import numpy as np\n",
    "from numba import njit"
   ]
  },
  {
   "cell_type": "code",
   "execution_count": 3,
   "id": "initial_id",
   "metadata": {
    "ExecuteTime": {
     "end_time": "2023-11-13T02:30:19.542250Z",
     "start_time": "2023-11-13T02:30:19.534462Z"
    },
    "collapsed": true,
    "jupyter": {
     "outputs_hidden": true
    }
   },
   "outputs": [],
   "source": [
    "# Martin's code to compute Y_lm's\n",
    "@njit\n",
    "def slow_recurrence(Nl, Ylm, xx):\n",
    "    for m in range(0,Nl-1):\n",
    "        for ell in range(m+2,Nl):\n",
    "            fact1,fact2  = np.sqrt( (ell-m)*1./(ell+m) ),\\\n",
    "                           np.sqrt( (ell-m-1.)/(ell+m-1.) )\n",
    "            Ylm[ell,m,:] = (2*ell-1)*xx*Ylm[ell-1,m,:]-\\\n",
    "                           (ell+m-1)   *Ylm[ell-2,m,:]*fact2\n",
    "            Ylm[ell,m,:]*= fact1/(ell-m)\n",
    "    return Ylm\n",
    "\n",
    "def compute_ylm_table(Nell,Nx):\n",
    "    \"\"\"Use recurrence relations to compute a table of Ylm[theta,0]\n",
    "    for ell>=0, m>=0, x=>0.\"\"\"\n",
    "    xx = (np.arange(Nx)+0.5)/Nx\n",
    "    sx = np.sqrt(1-xx**2)\n",
    "    Ylm= np.zeros( (Nell,Nell,Nx) )\n",
    "    #\n",
    "    # First we do the m=0 case.\n",
    "    Ylm[0,0,:] = np.ones_like(xx)\n",
    "    Ylm[1,0,:] = xx.copy()\n",
    "    for ell in range(2,Nl):\n",
    "        Ylm[ell,0,:] = (2*ell-1)*xx*Ylm[ell-1,0,:]-(ell-1)*Ylm[ell-2,0,:]\n",
    "        Ylm[ell,0,:]/= float(ell)\n",
    "    # Now we fill in m>0.\n",
    "    # To keep the recurrences stable, we treat \"high m\" and \"low m\" separately.\n",
    "    # Start with the highest value of m allowed:\n",
    "    for m in range(1,Nl):\n",
    "        Ylm[m,m,:] = -np.sqrt(1.0-1./(2*m))*sx*Ylm[m-1,m-1,:]\n",
    "    # Now do m=ell-1\n",
    "    for m in range(1,Nl-1):\n",
    "        Ylm[m+1,m,:] = np.sqrt(2*m+1.)*xx*Ylm[m,m,:]\n",
    "    # Finally fill in ell>m+1:\n",
    "    _ = slow_recurrence(1, Ylm, xx) # A dummy, warmup run to JIT compile\n",
    "    Ylm = slow_recurrence(Nl, Ylm, xx)\n",
    "    # And finally put in the (2ell+1)/4pi normalization:\n",
    "    for ell in range(Nl):\n",
    "        Ylm[ell,:,:] *= np.sqrt( (2*ell+1)/4./np.pi )\n",
    "    return(Ylm)"
   ]
  },
  {
   "cell_type": "code",
   "execution_count": 4,
   "id": "7a525722e7f3100a",
   "metadata": {
    "ExecuteTime": {
     "end_time": "2023-11-13T02:30:20.709191Z",
     "start_time": "2023-11-13T02:30:19.919306Z"
    },
    "collapsed": false
   },
   "outputs": [],
   "source": [
    "Nl  = 500\n",
    "Nx  = 1024\n",
    "theta_samples = (np.arange(Nx)+0.5)/Nx\n",
    "Ylm_np = compute_ylm_table(Nl,Nx)"
   ]
  },
  {
   "cell_type": "code",
   "execution_count": 5,
   "id": "7aed167194c3443f",
   "metadata": {
    "ExecuteTime": {
     "end_time": "2023-11-13T02:30:22.441127Z",
     "start_time": "2023-11-13T02:30:20.710667Z"
    },
    "collapsed": false
   },
   "outputs": [],
   "source": [
    "# Let's generate some mock data\n",
    "Nrandoms = int(1e7)\n",
    "theta_data = np.random.uniform(0,np.pi,Nrandoms)\n",
    "w_i = np.random.uniform(0,1, Nrandoms)\n",
    "\n",
    "# We will want to sort the data in ascending order of theta\n",
    "sorted_indices = np.argsort(theta_data)\n",
    "theta_data_sorted = theta_data[sorted_indices]\n",
    "w_i_sorted = w_i[sorted_indices] # The observation weights for each galaxy/random"
   ]
  },
  {
   "cell_type": "code",
   "execution_count": 1,
   "id": "6981b60ee089031e",
   "metadata": {
    "collapsed": false,
    "ExecuteTime": {
     "end_time": "2023-11-13T21:31:03.424436Z",
     "start_time": "2023-11-13T21:31:03.337413Z"
    }
   },
   "outputs": [
    {
     "ename": "NameError",
     "evalue": "name 'np' is not defined",
     "output_type": "error",
     "traceback": [
      "\u001B[0;31m---------------------------------------------------------------------------\u001B[0m",
      "\u001B[0;31mNameError\u001B[0m                                 Traceback (most recent call last)",
      "Cell \u001B[0;32mIn[1], line 2\u001B[0m\n\u001B[1;32m      1\u001B[0m \u001B[38;5;66;03m# Calculate theta_data-theta_sample[i] for each theta_data\u001B[39;00m\n\u001B[0;32m----> 2\u001B[0m which_spline_idx \u001B[38;5;241m=\u001B[39m \u001B[43mnp\u001B[49m\u001B[38;5;241m.\u001B[39mdigitize(theta_data_sorted, theta_samples) \u001B[38;5;241m-\u001B[39m \u001B[38;5;241m1\u001B[39m\n\u001B[1;32m      3\u001B[0m digitized_diffs \u001B[38;5;241m=\u001B[39m (theta_data_sorted \u001B[38;5;241m-\u001B[39m theta_samples[which_spline_idx])\n",
      "\u001B[0;31mNameError\u001B[0m: name 'np' is not defined"
     ]
    }
   ],
   "source": [
    "# Calculate theta_data-theta_sample[i] for each theta_data\n",
    "which_spline_idx = np.digitize(theta_data_sorted, theta_samples) - 1\n",
    "digitized_diffs = (theta_data_sorted - theta_samples[which_spline_idx])"
   ]
  },
  {
   "cell_type": "code",
   "execution_count": 7,
   "id": "a2e65531b506ea44",
   "metadata": {
    "ExecuteTime": {
     "end_time": "2023-11-13T02:30:23.031748Z",
     "start_time": "2023-11-13T02:30:22.682292Z"
    },
    "collapsed": false
   },
   "outputs": [
    {
     "name": "stdout",
     "output_type": "stream",
     "text": [
      "Note that these take up a negligible amount of memory: 0.032768 Mb\n"
     ]
    }
   ],
   "source": [
    "@njit\n",
    "def get_sum(x_samples, x_data, y_data):\n",
    "    sum = np.zeros_like(x_samples)\n",
    "    j=0\n",
    "    for x_d, y_d in zip(x_data, y_data):\n",
    "        if x_d<x_samples[j+1]:\n",
    "            sum[j] += y_d\n",
    "        else:\n",
    "            j+=1\n",
    "    return sum\n",
    "\n",
    "# We now sum up all the w_p (theta_data_p-theta_sample[i])^n in each spline region i, for n in {0,1,2,3}, and a galaxy/random labeled by p\n",
    "summed_0_diffs = get_sum(theta_samples, theta_data_sorted,\n",
    "                         w_i_sorted * np.ones_like(digitized_diffs))\n",
    "summed_1_diffs = get_sum(theta_samples, theta_data_sorted,\n",
    "                         w_i_sorted * digitized_diffs)\n",
    "summed_2_diffs = get_sum(theta_samples, theta_data_sorted,\n",
    "                         w_i_sorted * digitized_diffs**2)\n",
    "summed_3_diffs = get_sum(theta_samples, theta_data_sorted,\n",
    "                         w_i_sorted * digitized_diffs**3)\n",
    "\n",
    "print('Note that these take up a negligible amount of memory: {} Mb'.format(4*summed_0_diffs.nbytes/1e6))"
   ]
  },
  {
   "cell_type": "code",
   "execution_count": 8,
   "id": "7ecabcb0fc49d88f",
   "metadata": {
    "ExecuteTime": {
     "end_time": "2023-11-13T02:30:23.035756Z",
     "start_time": "2023-11-13T02:30:23.034082Z"
    },
    "collapsed": false
   },
   "outputs": [],
   "source": [
    "@njit\n",
    "def cubic_spline(x, y, ind, t_0, t_1, t_2, t_3, endpoints=\"natural\"):\n",
    "    \"\"\"\n",
    "    :param x: 1d numpy array of x samples\n",
    "    :param y: 1d numpy array of y samples\n",
    "    :param ind: 1d numpy array of sample indices -- almost trivial np.arange(len(x))\n",
    "    :param t_0: 1d numpy array with (data-sample[i])^0 for each spline bin\n",
    "    :param t_1: 1d numpy array with (data-sample[i])^1 for each spline bin\n",
    "    :param t_2: 1d numpy array with (data-sample[i])^2 for each spline bin\n",
    "    :param t_3: 1d numpy array with (data-sample[i])^3 for each spline bin\n",
    "    :param endpoints: str. \"natural\" or \"not-a-knot\"\n",
    "    :return: \n",
    "    \"\"\"\n",
    "    \n",
    "    n_data = len(x)\n",
    "    # Difference vectors\n",
    "    h = np.diff(x)  # x[i+1] - x[i] for i=0,...,n-1\n",
    "    p = np.diff(y)  # y[i+1] - y[i]\n",
    "\n",
    "    # Special values for the first and last equations\n",
    "    zero = np.array([0.0])\n",
    "    one = np.array([1.0])\n",
    "    A00 = one if endpoints == \"natural\" else np.array([h[1]])\n",
    "    A01 = zero if endpoints == \"natural\" else np.array([-(h[0] + h[1])])\n",
    "    A02 = zero if endpoints == \"natural\" else np.array([h[0]])\n",
    "    ANN = one if endpoints == \"natural\" else np.array([h[-2]])\n",
    "    AN1 = (\n",
    "        -one if endpoints == \"natural\" else np.array([-(h[-2] + h[-1])])\n",
    "    )  # A[N, N-1]\n",
    "    AN2 = zero if endpoints == \"natural\" else np.array([h[-1]])  # A[N, N-2]\n",
    "\n",
    "    # Construct the tri-diagonal matrix A\n",
    "    A = np.diag(np.concatenate((A00, 2 * (h[:-1] + h[1:]), ANN)))\n",
    "    upper_diag1 = np.diag(np.concatenate((A01, h[1:])), k=1)\n",
    "    upper_diag2 = np.diag(np.concatenate((A02, np.zeros(n_data - 3))), k=2)\n",
    "    lower_diag1 = np.diag(np.concatenate((h[:-1], AN1)), k=-1)\n",
    "    lower_diag2 = np.diag(np.concatenate((np.zeros(n_data - 3), AN2)), k=-2)\n",
    "    A += upper_diag1 + upper_diag2 + lower_diag1 + lower_diag2\n",
    "\n",
    "    # Construct RHS vector s\n",
    "    center = 3 * (p[1:] / h[1:] - p[:-1] / h[:-1])\n",
    "    s = np.concatenate((zero, center, zero))\n",
    "    # Compute spline coefficients by solving the system\n",
    "    coefficients = np.linalg.solve(A, s)\n",
    "\n",
    "    # Compute the spline coefficients for a given x\n",
    "    knots = x\n",
    "\n",
    "    # Include the right endpoint in spline piece C[m-1]\n",
    "    ind = np.clip(ind, 0, len(knots) - 2)\n",
    "    h = np.diff(knots)[ind]\n",
    "\n",
    "    c = coefficients[ind]\n",
    "    c1 = coefficients[ind + 1]\n",
    "    a = y[ind]\n",
    "    a1 = y[ind + 1]\n",
    "    b = (a1 - a) / h - (2 * c + c1) * h / 3.0\n",
    "    d = (c1 - c) / (3 * h)\n",
    "\n",
    "    # Evaluation of the spline.\n",
    "    return a * t_0 + b * t_1 + c * t_2 + d * t_3\n"
   ]
  },
  {
   "cell_type": "code",
   "execution_count": 9,
   "id": "532cb27a150ab959",
   "metadata": {
    "ExecuteTime": {
     "end_time": "2023-11-13T02:30:25.019835Z",
     "start_time": "2023-11-13T02:30:23.695491Z"
    },
    "collapsed": false
   },
   "outputs": [],
   "source": [
    "# Now the name of the game is to calculate the 4 spline coefficients in each region, multiply them by the summed_..._diffs\n",
    "# and finally, sum over all splines\n",
    "ell = 100\n",
    "m = 33\n",
    "a_lm = np.sum(cubic_spline(theta_samples, Ylm_np[ell, m, :], np.arange(1024),\n",
    "                           summed_0_diffs, summed_1_diffs, summed_2_diffs, summed_3_diffs))\n",
    "\n",
    "# After that, we just loop over ell and m. And this is actually trivially parallelizable"
   ]
  },
  {
   "cell_type": "code",
   "execution_count": 10,
   "id": "c93df3b3209c3ef1",
   "metadata": {
    "ExecuteTime": {
     "end_time": "2023-11-13T02:30:39.701878Z",
     "start_time": "2023-11-13T02:30:25.175828Z"
    },
    "collapsed": false
   },
   "outputs": [
    {
     "name": "stdout",
     "output_type": "stream",
     "text": [
      "18 ms ± 190 µs per loop (mean ± std. dev. of 7 runs, 100 loops each)\n"
     ]
    }
   ],
   "source": [
    "%%timeit\n",
    "np.sum(cubic_spline(theta_samples, Ylm_np[ell, m, :], np.arange(1024),\n",
    "                    summed_0_diffs, summed_1_diffs, summed_2_diffs, summed_3_diffs))"
   ]
  },
  {
   "cell_type": "code",
   "execution_count": null,
   "id": "ad9b195e47bfa9e0",
   "metadata": {
    "collapsed": false
   },
   "outputs": [],
   "source": []
  }
 ],
 "metadata": {
  "kernelspec": {
   "display_name": "Python 3 (ipykernel)",
   "language": "python",
   "name": "python3"
  },
  "language_info": {
   "codemirror_mode": {
    "name": "ipython",
    "version": 3
   },
   "file_extension": ".py",
   "mimetype": "text/x-python",
   "name": "python",
   "nbconvert_exporter": "python",
   "pygments_lexer": "ipython3",
   "version": "3.11.5"
  }
 },
 "nbformat": 4,
 "nbformat_minor": 5
}
